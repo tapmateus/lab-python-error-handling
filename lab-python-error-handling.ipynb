{
 "cells": [
  {
   "cell_type": "markdown",
   "id": "25d7736c-ba17-4aff-b6bb-66eba20fbf4e",
   "metadata": {},
   "source": [
    "# Lab | Error Handling"
   ]
  },
  {
   "cell_type": "markdown",
   "id": "bc99b386-7508-47a0-bcdb-d969deaf6c8b",
   "metadata": {},
   "source": [
    "## Exercise: Error Handling for Managing Customer Orders\n",
    "\n",
    "The implementation of your code for managing customer orders assumes that the user will always enter a valid input. \n",
    "\n",
    "For example, we could modify the `initialize_inventory` function to include error handling.\n",
    "   - If the user enters an invalid quantity (e.g., a negative value or a non-numeric value), display an error message and ask them to re-enter the quantity for that product.\n",
    "   - Use a try-except block to handle the error and continue prompting the user until a valid quantity is entered.\n",
    "\n",
    "```python\n",
    "# Step 1: Define the function for initializing the inventory with error handling\n",
    "def initialize_inventory(products):\n",
    "    inventory = {}\n",
    "    for product in products:\n",
    "        valid_quantity = False\n",
    "        while not valid_quantity:\n",
    "            try:\n",
    "                quantity = int(input(f\"Enter the quantity of {product}s available: \"))\n",
    "                if quantity < 0:\n",
    "                    raise ValueError(\"Invalid quantity! Please enter a non-negative value.\")\n",
    "                valid_quantity = True\n",
    "            except ValueError as error:\n",
    "                print(f\"Error: {error}\")\n",
    "        inventory[product] = quantity\n",
    "    return inventory\n",
    "\n",
    "# Or, in another way:\n",
    "\n",
    "def initialize_inventory(products):\n",
    "    inventory = {}\n",
    "    for product in products:\n",
    "        valid_input = False\n",
    "        while not valid_input:\n",
    "            try:\n",
    "                quantity = int(input(f\"Enter the quantity of {product}s available: \"))\n",
    "                if quantity >= 0:\n",
    "                    inventory[product] = quantity\n",
    "                    valid_input = True\n",
    "                else:\n",
    "                    print(\"Quantity cannot be negative. Please enter a valid quantity.\")\n",
    "            except ValueError:\n",
    "                print(\"Invalid input. Please enter a valid quantity.\")\n",
    "    return inventory\n",
    "```\n",
    "\n",
    "Let's enhance your code by implementing error handling to handle invalid inputs.\n",
    "\n",
    "Follow the steps below to complete the exercise:\n",
    "\n",
    "2. Modify the `calculate_total_price` function to include error handling.\n",
    "   - If the user enters an invalid price (e.g., a negative value or a non-numeric value), display an error message and ask them to re-enter the price for that product.\n",
    "   - Use a try-except block to handle the error and continue prompting the user until a valid price is entered.\n",
    "\n",
    "3. Modify the `get_customer_orders` function to include error handling.\n",
    "   - If the user enters an invalid number of orders (e.g., a negative value or a non-numeric value), display an error message and ask them to re-enter the number of orders.\n",
    "   - If the user enters an invalid product name (e.g., a product name that is not in the inventory), or that doesn't have stock available, display an error message and ask them to re-enter the product name. *Hint: you will need to pass inventory as a parameter*\n",
    "   - Use a try-except block to handle the error and continue prompting the user until a valid product name is entered.\n",
    "\n",
    "4. Test your code by running the program and deliberately entering invalid quantities and product names. Make sure the error handling mechanism works as expected.\n"
   ]
  },
  {
   "cell_type": "code",
   "execution_count": 1,
   "id": "5fa085b9",
   "metadata": {},
   "outputs": [],
   "source": [
    "#2. Modify the calculate_total_price function to include error handling.\n",
    "products = [\"keychain\", \"mug\", \"beer\", \"wine\", \"cereal\", \"milk\"]\n",
    "\n",
    "def calculate_total_price(products):\n",
    "    prices = []\n",
    "    for product in products:\n",
    "        valid_input = False\n",
    "        while not valid_input:\n",
    "            try:\n",
    "                price = int(input(f\"Enter price for {product}: \"))\n",
    "                if price > 0:\n",
    "                    prices.append(price)\n",
    "                    valid_input = True\n",
    "                elif price<0:\n",
    "                    print(\"Price can't be negative. Please enter a valid price.\")\n",
    "                else:\n",
    "                    print(\"Price can't be 0 neither contain letters. Please enter a valid price.\")\n",
    "            except ValueError:\n",
    "                print(\"Invalid input. Please enter a valid price.\")\n",
    "    return prices"
   ]
  },
  {
   "cell_type": "code",
   "execution_count": 2,
   "id": "19defdd3",
   "metadata": {},
   "outputs": [],
   "source": [
    "# 3. Modify the get_customer_orders function to include error handling.\n",
    "products = [\"keychain\", \"mug\", \"beer\", \"wine\", \"cereal\", \"milk\"]\n",
    "\n",
    "def get_customer_order(products):\n",
    "    customer_order = set()\n",
    "    for product in products:\n",
    "        valid_input = False\n",
    "        while not valid_input:\n",
    "            try:\n",
    "                product = input(\"Enter the product to buy: \")\n",
    "                if product in products:\n",
    "                    customer_order.add(product)\n",
    "                    valid_input = True\n",
    "                    proc_order = input(\"Want to order more products? yes/no\")\n",
    "                    if proc_order == \"no\":\n",
    "                        return customer_order\n",
    "                else:\n",
    "                    proc_order2 = input(\"Product not in stock. Want to finish you order? yes/no\")\n",
    "                    if proc_order2 == \"yes\":\n",
    "                        return customer_order\n",
    "            except ValueError:\n",
    "                print(\"Invalid input. Please enter a valid product\")\n",
    "    return customer_order"
   ]
  },
  {
   "cell_type": "code",
   "execution_count": 3,
   "id": "b00f816a",
   "metadata": {
    "scrolled": true
   },
   "outputs": [
    {
     "name": "stdout",
     "output_type": "stream",
     "text": [
      "Enter price for keychain: 0\n",
      "Price can't be 0 neither contain letters. Please enter a valid price.\n",
      "Enter price for keychain: 1\n",
      "Enter price for mug: -2\n",
      "Price can't be negative. Please enter a valid price.\n",
      "Enter price for mug: 2\n",
      "Enter price for beer: yes\n",
      "Invalid input. Please enter a valid price.\n",
      "Enter price for beer: 5\n",
      "Enter price for wine: 5\n",
      "Enter price for cereal: 5\n",
      "Enter price for milk: 5\n",
      "the total price of the order is 23\n",
      "Enter the product to buy: beer\n",
      "Want to order more products? yes/noyes\n",
      "Enter the product to buy: cat\n",
      "Product not in stock. Want to finish you order? yes/nono\n",
      "Enter the product to buy: 432432\n",
      "Product not in stock. Want to finish you order? yes/nono\n",
      "Enter the product to buy: wine\n",
      "Want to order more products? yes/noyes\n",
      "Enter the product to buy: cereal\n",
      "Want to order more products? yes/nono\n",
      "{'cereal', 'beer', 'wine'}\n"
     ]
    }
   ],
   "source": [
    "#4. Test your code by running the program and deliberately entering invalid quantities and product names. \n",
    "#   Make sure the error handling mechanism works as expected.\n",
    "\n",
    "\n",
    "print(\"the total price of the order is\", sum(calculate_total_price(products)))\n",
    "print(get_customer_order(products))"
   ]
  },
  {
   "cell_type": "code",
   "execution_count": null,
   "id": "cc5144ce",
   "metadata": {},
   "outputs": [],
   "source": []
  }
 ],
 "metadata": {
  "kernelspec": {
   "display_name": "Python 3 (ipykernel)",
   "language": "python",
   "name": "python3"
  },
  "language_info": {
   "codemirror_mode": {
    "name": "ipython",
    "version": 3
   },
   "file_extension": ".py",
   "mimetype": "text/x-python",
   "name": "python",
   "nbconvert_exporter": "python",
   "pygments_lexer": "ipython3",
   "version": "3.10.9"
  }
 },
 "nbformat": 4,
 "nbformat_minor": 5
}
